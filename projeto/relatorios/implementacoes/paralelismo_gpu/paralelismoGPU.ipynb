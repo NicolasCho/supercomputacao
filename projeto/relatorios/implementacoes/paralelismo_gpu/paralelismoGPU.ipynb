{
  "nbformat": 4,
  "nbformat_minor": 0,
  "metadata": {
    "colab": {
      "provenance": [],
      "gpuType": "T4"
    },
    "kernelspec": {
      "name": "python3",
      "display_name": "Python 3"
    },
    "language_info": {
      "name": "python"
    },
    "accelerator": "GPU"
  },
  "cells": [
    {
      "cell_type": "markdown",
      "source": [
        "# Paralelismo com GPU"
      ],
      "metadata": {
        "id": "HvkHby9A-diz"
      }
    },
    {
      "cell_type": "markdown",
      "source": [
        "Criar pastas \"inputs_filmes\" e \"inputs_categorias\". Adicionar os arquivos de input em sua pasta correspondente (variável filme ou variável categoria)."
      ],
      "metadata": {
        "id": "kohKQ4AD-Xni"
      }
    },
    {
      "cell_type": "code",
      "execution_count": 1,
      "metadata": {
        "id": "RAPRLQKgDDYs",
        "colab": {
          "base_uri": "https://localhost:8080/"
        },
        "outputId": "12e21a74-9eb1-4db5-91a7-bbdbf66435b0"
      },
      "outputs": [
        {
          "output_type": "stream",
          "name": "stdout",
          "text": [
            "Writing paralelismo_gpu.cu\n"
          ]
        }
      ],
      "source": [
        "%%writefile paralelismo_gpu.cu\n",
        "#include <iostream>\n",
        "#include <vector>\n",
        "#include <algorithm>\n",
        "#include <thrust/host_vector.h>\n",
        "#include <thrust/device_vector.h>\n",
        "#include <thrust/functional.h>\n",
        "#include <omp.h>\n",
        "#include <fstream>\n",
        "using namespace std;\n",
        "struct filme {\n",
        "    int id;\n",
        "    int inicio;\n",
        "    int fim;\n",
        "    int duracao;\n",
        "    int categoria;\n",
        "};\n",
        "\n",
        "int main(int argc, char *argv[]){\n",
        "    clock_t start, end;\n",
        "    start = clock();\n",
        "\n",
        "    //Recebe o nome da variavel testada e o nome do arquivo\n",
        "    string variavel = argv[1]; \n",
        "    string arquivo = argv[2];\n",
        "\n",
        "\n",
        "    int N, M;\n",
        "    std::cin >> N >> M;\n",
        "\n",
        "    thrust::host_vector<int> categories(N);\n",
        "    thrust::host_vector<int> start_times(N);\n",
        "    thrust::host_vector<int> end_times(N);\n",
        "    thrust::host_vector<int> L(M);\n",
        "\n",
        "    for (int i = 0; i < M; i++) {\n",
        "        std::cin >> L[i];\n",
        "    }\n",
        "\n",
        "    for (int i = 0; i < N; i++) {\n",
        "        std::cin >> start_times[i] >> end_times[i] >> categories[i];\n",
        "    }\n",
        "\n",
        "\n",
        "     thrust::device_vector<int> dp((N + 1) * (M + 1), 0);\n",
        "\n",
        "     for (int i = 1; i <= N; i++) {\n",
        "        for (int j = 1; j <= M; j++) {\n",
        "            int max_count = 0;\n",
        "            for (int k = 0; k < i; k++) {\n",
        "                if (categories[k] == j && end_times[k] <= start_times[i] &&\n",
        "                    dp[(k * (M + 1)) + j - 1] + 1 <= L[j - 1]) {\n",
        "                    max_count = thrust::max(max_count, thrust::raw_reference_cast<int>(dp[(k * (M + 1)) + j - 1]) + 1);\n",
        "                } else {\n",
        "                    max_count = thrust::max(max_count, thrust::raw_reference_cast<int>(dp[(k * (M + 1)) + j]));\n",
        "                }\n",
        "            }\n",
        "            dp[(i * (M + 1)) + j] = max_count;\n",
        "        }\n",
        "    }\n",
        "\n",
        "    int max_count = *thrust::max_element(dp.begin() + N * (M + 1) + 1, dp.begin() + (N + 1) * (M + 1));\n",
        "\n",
        "    //std::cout << \"Número máximo de filmes que podem ser assistidos: \" << max_count << std::endl;\n",
        "\n",
        "\n",
        "    end = clock();\n",
        "    double time_taken = double(end - start) / double(CLOCKS_PER_SEC);\n",
        "\n",
        "\n",
        "    // Escreve novo resultado no csv\n",
        "    // Métricas: número de filmes alocados, quantidade de horas ocupadas, tempo de execução\n",
        "    ofstream outputFile;\n",
        "    string result_file = \"results.csv\";  // Caminho relativo ao script que chama a heuristica\n",
        "    outputFile.open(result_file, ios::app);\n",
        "    string result = variavel + \",\" + to_string(max_count) + \",\" + \"0\" + \n",
        "        \",\" + to_string(time_taken) + \",\" + arquivo;\n",
        "    outputFile << result << endl;\n",
        "    return 0;\n",
        "}"
      ]
    },
    {
      "cell_type": "code",
      "source": [
        "!nvcc paralelismo_gpu.cu -o paralelismo_gpu"
      ],
      "metadata": {
        "id": "Y-vB-R834NHa"
      },
      "execution_count": 2,
      "outputs": []
    },
    {
      "cell_type": "code",
      "source": [
        "import os\n",
        "import subprocess\n",
        "\n",
        "dir_inputs = \"inputs_filmes/\"\n",
        "\n",
        "if os.path.exists(\"results.csv\"):\n",
        "    os.remove(\"results.csv\")\n",
        "\n",
        "f_out = open(\"results.csv\", \"a\")\n",
        "f_out.write(\"variavel,numero_filmes,alocacao_tempo,tempo_execucao,nome_arquivo\\n\")\n",
        "f_out.close()\n",
        "\n",
        "\n",
        "for in_file in os.listdir(\"inputs_filmes\"):\n",
        "  f_in = open(dir_inputs+in_file)\n",
        "  proc = subprocess.Popen([\"./paralelismo_gpu\", \"filme\", in_file], stdin = f_in)\n",
        "  proc.wait()\n",
        "\n",
        "dir_inputs = \"inputs_categorias/\"\n",
        "\n",
        "for in_file in os.listdir(\"inputs_categorias\"):\n",
        "  f_in = open(dir_inputs+in_file)\n",
        "  proc = subprocess.Popen([\"./paralelismo_gpu\", \"categoria\", in_file], stdin = f_in)\n",
        "  proc.wait()\n",
        "\n"
      ],
      "metadata": {
        "id": "glGoI9VZyBLc"
      },
      "execution_count": 6,
      "outputs": []
    }
  ]
}